{
 "cells": [
  {
   "cell_type": "markdown",
   "metadata": {},
   "source": [
    "# Supervised Fine-Tuning with SFTTrainer\n",
    "\n",
    "This notebook demonstrates how to fine-tune the `HuggingFaceTB/SmolLM2-135M` model using the `SFTTrainer` from the `trl` library. The notebook cells run and will finetune the model. You can select your difficulty by trying out different datasets.\n",
    "\n",
    "<div style='background-color: lightblue; padding: 10px; border-radius: 5px; margin-bottom: 20px; color:black'>\n",
    "    <h2 style='margin: 0;color:blue'>Exercise: Fine-Tuning SmolLM2 with SFTTrainer</h2>\n",
    "    <p>Take a dataset from the Hugging Face hub and finetune a model on it. </p> \n",
    "    <p><b>Difficulty Levels</b></p>\n",
    "    <p>🐢 Use the `HuggingFaceTB/smoltalk` dataset</p>\n",
    "    <p>🐕 Try out the `bigcode/the-stack-smol` dataset and finetune a code generation model on a specific subset `data/python`.</p>\n",
    "    <p>🦁 Select a dataset that relates to a real world use case your interested in</p>\n",
    "</div>"
   ]
  },
  {
   "cell_type": "code",
   "execution_count": 1,
   "metadata": {},
   "outputs": [
    {
     "data": {
      "application/vnd.jupyter.widget-view+json": {
       "model_id": "6add603761c845ec97825aae5f58c828",
       "version_major": 2,
       "version_minor": 0
      },
      "text/plain": [
       "VBox(children=(HTML(value='<center> <img\\nsrc=https://huggingface.co/front/assets/huggingface_logo-noborder.sv…"
      ]
     },
     "metadata": {},
     "output_type": "display_data"
    }
   ],
   "source": [
    "# Install the requirements in Google Colab\n",
    "# !pip install transformers datasets trl huggingface_hub\n",
    "\n",
    "# Authenticate to Hugging Face\n",
    "\n",
    "from huggingface_hub import login\n",
    "login()\n",
    "\n",
    "# for convenience you can create an environment variable containing your hub token as HF_TOKEN"
   ]
  },
  {
   "cell_type": "code",
   "execution_count": 2,
   "metadata": {},
   "outputs": [],
   "source": [
    "# Import necessary libraries\n",
    "from transformers import AutoModelForCausalLM, AutoTokenizer\n",
    "from datasets import load_dataset\n",
    "from trl import SFTConfig, SFTTrainer, setup_chat_format\n",
    "import torch\n",
    "\n",
    "device = (\n",
    "    \"cuda\"\n",
    "    if torch.cuda.is_available()\n",
    "    else \"mps\" if torch.backends.mps.is_available() else \"cpu\"\n",
    ")\n",
    "\n",
    "# Load the model and tokenizer\n",
    "model_name = \"HuggingFaceTB/SmolLM2-135M\"\n",
    "model = AutoModelForCausalLM.from_pretrained(\n",
    "    pretrained_model_name_or_path=model_name\n",
    ").to(device)\n",
    "tokenizer = AutoTokenizer.from_pretrained(pretrained_model_name_or_path=model_name)\n",
    "\n",
    "# Set up the chat format\n",
    "model, tokenizer = setup_chat_format(model=model, tokenizer=tokenizer)\n",
    "\n",
    "# Set our name for the finetune to be saved &/ uploaded to\n",
    "finetune_name = \"SmolLM2-FT-MyDataset\"\n",
    "finetune_tags = [\"smol-course\", \"module_1\"]"
   ]
  },
  {
   "cell_type": "markdown",
   "metadata": {},
   "source": [
    "# Generate with the base model\n",
    "\n",
    "Here we will try out the base model which does not have a chat template. "
   ]
  },
  {
   "cell_type": "code",
   "execution_count": 5,
   "metadata": {},
   "outputs": [
    {
     "name": "stdout",
     "output_type": "stream",
     "text": [
      "{'input_ids': tensor([[    1,  4093,   198, 19161,   253,   421, 30614,   563,  6256,     2,\n",
      "           198]]), 'attention_mask': tensor([[1, 1, 1, 1, 1, 1, 1, 1, 1, 1, 1]])}\n",
      "tensor([[    1,  4093,   198, 19161,   253,   421, 30614,   563,  6256,     2,\n",
      "           198, 19161,   253,   421, 30614,   563,  6256,   198, 19161,   253,\n",
      "           421, 30614,   563,  6256,   198, 19161,   253,   421, 30614,   563,\n",
      "          6256,   198, 19161,   253,   421, 30614,   563,  6256,   198, 19161,\n",
      "           253,   421, 30614,   563,  6256,   198, 19161,   253,   421, 30614,\n",
      "           563,  6256,   198, 19161,   253,   421, 30614,   563,  6256,   198,\n",
      "         19161,   253,   421, 30614,   563,  6256,   198, 19161,   253,   421,\n",
      "         30614,   563,  6256,   198, 19161,   253,   421, 30614,   563,  6256,\n",
      "           198, 19161,   253,   421, 30614,   563,  6256,   198, 19161,   253,\n",
      "           421, 30614,   563,  6256,   198, 19161,   253,   421, 30614,   563,\n",
      "          6256,   198, 19161,   253,   421, 30614,   563,  6256,   198, 19161,\n",
      "           253]])\n",
      "Before training:\n",
      "user\n",
      "Write a haiku about programming\n",
      "Write a haiku about programming\n",
      "Write a haiku about programming\n",
      "Write a haiku about programming\n",
      "Write a haiku about programming\n",
      "Write a haiku about programming\n",
      "Write a haiku about programming\n",
      "Write a haiku about programming\n",
      "Write a haiku about programming\n",
      "Write a haiku about programming\n",
      "Write a haiku about programming\n",
      "Write a haiku about programming\n",
      "Write a haiku about programming\n",
      "Write a haiku about programming\n",
      "Write a haiku about programming\n",
      "Write a\n"
     ]
    }
   ],
   "source": [
    "# Let's test the base model before training\n",
    "prompt = \"Write a haiku about programming\"\n",
    "\n",
    "# Format with template\n",
    "messages = [{\"role\": \"user\", \"content\": prompt}]\n",
    "formatted_prompt = tokenizer.apply_chat_template(messages, tokenize=False)\n",
    "\n",
    "# Generate response\n",
    "inputs = tokenizer(formatted_prompt, return_tensors=\"pt\").to(device)\n",
    "outputs = model.generate(**inputs, max_new_tokens=100)\n",
    "print(\"Before training:\")\n",
    "print(tokenizer.decode(outputs[0], skip_special_tokens=True))"
   ]
  },
  {
   "cell_type": "markdown",
   "metadata": {},
   "source": [
    "## Dataset Preparation\n",
    "\n",
    "We will load a sample dataset and format it for training. The dataset should be structured with input-output pairs, where each input is a prompt and the output is the expected response from the model.\n",
    "\n",
    "**TRL will format input messages based on the model's chat templates.** They need to be represented as a list of dictionaries with the keys: `role` and `content`,."
   ]
  },
  {
   "cell_type": "code",
   "execution_count": 11,
   "metadata": {},
   "outputs": [],
   "source": [
    "# Load a sample dataset\n",
    "from datasets import load_dataset\n",
    "\n",
    "# TODO: define your dataset and config using the path and name parameters\n",
    "ds = load_dataset(path=\"HuggingFaceTB/smoltalk\", name=\"everyday-conversations\")"
   ]
  },
  {
   "cell_type": "code",
   "execution_count": 8,
   "metadata": {},
   "outputs": [],
   "source": [
    "# TODO: 🦁 If your dataset is not in a format that TRL can convert to the chat template, you will need to process it. Refer to the [module](../chat_templates.md)"
   ]
  },
  {
   "cell_type": "code",
   "execution_count": 12,
   "metadata": {},
   "outputs": [
    {
     "name": "stdout",
     "output_type": "stream",
     "text": [
      "{'full_topic': 'Cooking/Cooking for others/Food gifting', 'messages': [{'content': 'Hi there', 'role': 'user'}, {'content': 'Hello! How can I help you today?', 'role': 'assistant'}, {'content': \"I'm planning to cook dinner for my family tonight, do you have any easy recipe suggestions?\", 'role': 'user'}, {'content': 'Yes, I can suggest a simple pasta recipe with tomato sauce and vegetables. Would you like me to share the steps?', 'role': 'assistant'}, {'content': \"That sounds great, I'd love to hear the steps. And also, I want to gift some food to my neighbor, what's a good food gift idea?\", 'role': 'user'}, {'content': 'For the pasta recipe, just boil pasta, heat canned tomato sauce with sautéed vegetables, and combine. For a food gift, consider baking cookies or making a fruit basket – both are easy and appreciated.', 'role': 'assistant'}]}\n"
     ]
    }
   ],
   "source": [
    "print(ds[\"train\"][3])"
   ]
  },
  {
   "cell_type": "code",
   "execution_count": 17,
   "metadata": {},
   "outputs": [
    {
     "name": "stdout",
     "output_type": "stream",
     "text": [
      "Note: you may need to restart the kernel to use updated packages.\n"
     ]
    },
    {
     "name": "stderr",
     "output_type": "stream",
     "text": [
      "d:\\ai\\agent\\workspace\\smol-course\\.venv\\Scripts\\python.exe: No module named pip\n"
     ]
    }
   ],
   "source": []
  },
  {
   "cell_type": "markdown",
   "metadata": {},
   "source": [
    "## Configuring the SFTTrainer\n",
    "\n",
    "The `SFTTrainer` is configured with various parameters that control the training process. These include the number of training steps, batch size, learning rate, and evaluation strategy. Adjust these parameters based on your specific requirements and computational resources."
   ]
  },
  {
   "cell_type": "code",
   "execution_count": 13,
   "metadata": {},
   "outputs": [
    {
     "data": {
      "application/vnd.jupyter.widget-view+json": {
       "model_id": "d6dc73bfd3464137951aaab9a290547d",
       "version_major": 2,
       "version_minor": 0
      },
      "text/plain": [
       "Map:   0%|          | 0/2260 [00:00<?, ? examples/s]"
      ]
     },
     "metadata": {},
     "output_type": "display_data"
    },
    {
     "data": {
      "application/vnd.jupyter.widget-view+json": {
       "model_id": "9e336aa7e4af459493075e729d04b5ea",
       "version_major": 2,
       "version_minor": 0
      },
      "text/plain": [
       "Map:   0%|          | 0/119 [00:00<?, ? examples/s]"
      ]
     },
     "metadata": {},
     "output_type": "display_data"
    },
    {
     "name": "stderr",
     "output_type": "stream",
     "text": [
      "max_steps is given, it will override any value given in num_train_epochs\n"
     ]
    }
   ],
   "source": [
    "# Configure the SFTTrainer\n",
    "sft_config = SFTConfig(\n",
    "    output_dir=\"./sft_output\",\n",
    "    max_steps=1000,  # Adjust based on dataset size and desired training duration\n",
    "    per_device_train_batch_size=4,  # Set according to your GPU memory capacity\n",
    "    learning_rate=5e-5,  # Common starting point for fine-tuning\n",
    "    logging_steps=10,  # Frequency of logging training metrics\n",
    "    save_steps=100,  # Frequency of saving model checkpoints\n",
    "    evaluation_strategy=\"steps\",  # Evaluate the model at regular intervals\n",
    "    eval_steps=50,  # Frequency of evaluation\n",
    "    use_mps_device=(\n",
    "        True if device == \"mps\" else False\n",
    "    ),  # Use MPS for mixed precision training\n",
    "    hub_model_id=finetune_name,  # Set a unique name for your model\n",
    ")\n",
    "\n",
    "# Initialize the SFTTrainer\n",
    "trainer = SFTTrainer(\n",
    "    model=model,\n",
    "    args=sft_config,\n",
    "    train_dataset=ds[\"train\"],\n",
    "    tokenizer=tokenizer,\n",
    "    eval_dataset=ds[\"test\"],\n",
    ")\n",
    "\n",
    "# TODO: 🦁 🐕 align the SFTTrainer params with your chosen dataset. For example, if you are using the `bigcode/the-stack-smol` dataset, you will need to choose the `content` column`"
   ]
  },
  {
   "cell_type": "markdown",
   "metadata": {},
   "source": [
    "## Training the Model\n",
    "\n",
    "With the trainer configured, we can now proceed to train the model. The training process will involve iterating over the dataset, computing the loss, and updating the model's parameters to minimize this loss."
   ]
  },
  {
   "cell_type": "code",
   "execution_count": 20,
   "metadata": {},
   "outputs": [
    {
     "data": {
      "application/vnd.jupyter.widget-view+json": {
       "model_id": "d6d82411061943b18671e0c05ace3c8e",
       "version_major": 2,
       "version_minor": 0
      },
      "text/plain": [
       "  0%|          | 0/1000 [00:00<?, ?it/s]"
      ]
     },
     "metadata": {},
     "output_type": "display_data"
    },
    {
     "name": "stdout",
     "output_type": "stream",
     "text": [
      "{'loss': 0.6056, 'grad_norm': 1.4867925643920898, 'learning_rate': 4.9500000000000004e-05, 'epoch': 0.02}\n",
      "{'loss': 0.5477, 'grad_norm': 1.507423996925354, 'learning_rate': 4.9e-05, 'epoch': 0.04}\n",
      "{'loss': 0.5677, 'grad_norm': 1.650034785270691, 'learning_rate': 4.85e-05, 'epoch': 0.05}\n",
      "{'loss': 0.7256, 'grad_norm': 2.003661632537842, 'learning_rate': 4.8e-05, 'epoch': 0.07}\n",
      "{'loss': 0.6995, 'grad_norm': 1.894800066947937, 'learning_rate': 4.75e-05, 'epoch': 0.09}\n"
     ]
    },
    {
     "data": {
      "application/vnd.jupyter.widget-view+json": {
       "model_id": "82f637e0dd6d4ef896f1c928eda5b9f2",
       "version_major": 2,
       "version_minor": 0
      },
      "text/plain": [
       "  0%|          | 0/15 [00:00<?, ?it/s]"
      ]
     },
     "metadata": {},
     "output_type": "display_data"
    },
    {
     "name": "stdout",
     "output_type": "stream",
     "text": [
      "{'eval_loss': 1.065290093421936, 'eval_runtime': 31.7472, 'eval_samples_per_second': 3.748, 'eval_steps_per_second': 0.472, 'epoch': 0.09}\n",
      "{'loss': 0.7676, 'grad_norm': 1.8478375673294067, 'learning_rate': 4.7e-05, 'epoch': 0.11}\n",
      "{'loss': 0.7946, 'grad_norm': 1.8938946723937988, 'learning_rate': 4.6500000000000005e-05, 'epoch': 0.12}\n",
      "{'loss': 0.7617, 'grad_norm': 1.8960566520690918, 'learning_rate': 4.600000000000001e-05, 'epoch': 0.14}\n",
      "{'loss': 0.7279, 'grad_norm': 1.863745927810669, 'learning_rate': 4.55e-05, 'epoch': 0.16}\n",
      "{'loss': 0.747, 'grad_norm': 1.9353132247924805, 'learning_rate': 4.5e-05, 'epoch': 0.18}\n"
     ]
    },
    {
     "data": {
      "application/vnd.jupyter.widget-view+json": {
       "model_id": "c1458d3768e6456fb84dca590d48d494",
       "version_major": 2,
       "version_minor": 0
      },
      "text/plain": [
       "  0%|          | 0/15 [00:00<?, ?it/s]"
      ]
     },
     "metadata": {},
     "output_type": "display_data"
    },
    {
     "name": "stdout",
     "output_type": "stream",
     "text": [
      "{'eval_loss': 1.0644205808639526, 'eval_runtime': 30.9943, 'eval_samples_per_second': 3.839, 'eval_steps_per_second': 0.484, 'epoch': 0.18}\n",
      "{'loss': 0.7086, 'grad_norm': 1.9713164567947388, 'learning_rate': 4.4500000000000004e-05, 'epoch': 0.19}\n",
      "{'loss': 0.8051, 'grad_norm': 1.9037768840789795, 'learning_rate': 4.4000000000000006e-05, 'epoch': 0.21}\n",
      "{'loss': 0.7757, 'grad_norm': 1.8412628173828125, 'learning_rate': 4.35e-05, 'epoch': 0.23}\n",
      "{'loss': 0.737, 'grad_norm': 2.0936732292175293, 'learning_rate': 4.3e-05, 'epoch': 0.25}\n",
      "{'loss': 0.7524, 'grad_norm': 2.046741485595703, 'learning_rate': 4.25e-05, 'epoch': 0.27}\n"
     ]
    },
    {
     "data": {
      "application/vnd.jupyter.widget-view+json": {
       "model_id": "029557985b724d10a043d35cb47eae36",
       "version_major": 2,
       "version_minor": 0
      },
      "text/plain": [
       "  0%|          | 0/15 [00:00<?, ?it/s]"
      ]
     },
     "metadata": {},
     "output_type": "display_data"
    },
    {
     "name": "stdout",
     "output_type": "stream",
     "text": [
      "{'eval_loss': 1.0598912239074707, 'eval_runtime': 31.1058, 'eval_samples_per_second': 3.826, 'eval_steps_per_second': 0.482, 'epoch': 0.27}\n",
      "{'loss': 0.7511, 'grad_norm': 2.011484146118164, 'learning_rate': 4.2e-05, 'epoch': 0.28}\n",
      "{'loss': 0.7871, 'grad_norm': 1.924798846244812, 'learning_rate': 4.15e-05, 'epoch': 0.3}\n",
      "{'loss': 0.7644, 'grad_norm': 1.7687593698501587, 'learning_rate': 4.1e-05, 'epoch': 0.32}\n",
      "{'loss': 0.7702, 'grad_norm': 1.9465316534042358, 'learning_rate': 4.05e-05, 'epoch': 0.34}\n",
      "{'loss': 0.7545, 'grad_norm': 1.8405660390853882, 'learning_rate': 4e-05, 'epoch': 0.35}\n"
     ]
    },
    {
     "data": {
      "application/vnd.jupyter.widget-view+json": {
       "model_id": "ac950d3f0dec4dedaef27e9260bfaf8c",
       "version_major": 2,
       "version_minor": 0
      },
      "text/plain": [
       "  0%|          | 0/15 [00:00<?, ?it/s]"
      ]
     },
     "metadata": {},
     "output_type": "display_data"
    },
    {
     "name": "stdout",
     "output_type": "stream",
     "text": [
      "{'eval_loss': 1.0499001741409302, 'eval_runtime': 31.7417, 'eval_samples_per_second': 3.749, 'eval_steps_per_second': 0.473, 'epoch': 0.35}\n",
      "{'loss': 0.7971, 'grad_norm': 1.8752943277359009, 'learning_rate': 3.9500000000000005e-05, 'epoch': 0.37}\n",
      "{'loss': 0.816, 'grad_norm': 1.937867283821106, 'learning_rate': 3.9000000000000006e-05, 'epoch': 0.39}\n",
      "{'loss': 0.7757, 'grad_norm': 1.9234237670898438, 'learning_rate': 3.85e-05, 'epoch': 0.41}\n",
      "{'loss': 0.7561, 'grad_norm': 1.801808476448059, 'learning_rate': 3.8e-05, 'epoch': 0.42}\n",
      "{'loss': 0.7618, 'grad_norm': 1.7976202964782715, 'learning_rate': 3.7500000000000003e-05, 'epoch': 0.44}\n"
     ]
    },
    {
     "data": {
      "application/vnd.jupyter.widget-view+json": {
       "model_id": "99c853a71967419ca6712091d17e5db6",
       "version_major": 2,
       "version_minor": 0
      },
      "text/plain": [
       "  0%|          | 0/15 [00:00<?, ?it/s]"
      ]
     },
     "metadata": {},
     "output_type": "display_data"
    },
    {
     "name": "stdout",
     "output_type": "stream",
     "text": [
      "{'eval_loss': 1.0468171834945679, 'eval_runtime': 30.114, 'eval_samples_per_second': 3.952, 'eval_steps_per_second': 0.498, 'epoch': 0.44}\n",
      "{'loss': 0.7808, 'grad_norm': 1.8283627033233643, 'learning_rate': 3.7e-05, 'epoch': 0.46}\n",
      "{'loss': 0.7697, 'grad_norm': 1.8193107843399048, 'learning_rate': 3.65e-05, 'epoch': 0.48}\n",
      "{'loss': 0.8055, 'grad_norm': 2.038604259490967, 'learning_rate': 3.6e-05, 'epoch': 0.5}\n",
      "{'loss': 0.7788, 'grad_norm': 1.8665000200271606, 'learning_rate': 3.55e-05, 'epoch': 0.51}\n",
      "{'loss': 0.7708, 'grad_norm': 1.807565689086914, 'learning_rate': 3.5e-05, 'epoch': 0.53}\n"
     ]
    },
    {
     "data": {
      "application/vnd.jupyter.widget-view+json": {
       "model_id": "26330520fd8246a1a763f085d10199dc",
       "version_major": 2,
       "version_minor": 0
      },
      "text/plain": [
       "  0%|          | 0/15 [00:00<?, ?it/s]"
      ]
     },
     "metadata": {},
     "output_type": "display_data"
    },
    {
     "name": "stdout",
     "output_type": "stream",
     "text": [
      "{'eval_loss': 1.0454977750778198, 'eval_runtime': 30.3103, 'eval_samples_per_second': 3.926, 'eval_steps_per_second': 0.495, 'epoch': 0.53}\n",
      "{'loss': 0.7594, 'grad_norm': 1.964413046836853, 'learning_rate': 3.45e-05, 'epoch': 0.55}\n",
      "{'loss': 0.7635, 'grad_norm': 1.8651436567306519, 'learning_rate': 3.4000000000000007e-05, 'epoch': 0.57}\n",
      "{'loss': 0.8232, 'grad_norm': 1.9158188104629517, 'learning_rate': 3.35e-05, 'epoch': 0.58}\n",
      "{'loss': 0.8051, 'grad_norm': 1.8595727682113647, 'learning_rate': 3.3e-05, 'epoch': 0.6}\n",
      "{'loss': 0.755, 'grad_norm': 1.8958892822265625, 'learning_rate': 3.2500000000000004e-05, 'epoch': 0.62}\n"
     ]
    },
    {
     "data": {
      "application/vnd.jupyter.widget-view+json": {
       "model_id": "332eece20611449caf1d88be3779ff7c",
       "version_major": 2,
       "version_minor": 0
      },
      "text/plain": [
       "  0%|          | 0/15 [00:00<?, ?it/s]"
      ]
     },
     "metadata": {},
     "output_type": "display_data"
    },
    {
     "name": "stdout",
     "output_type": "stream",
     "text": [
      "{'eval_loss': 1.042883038520813, 'eval_runtime': 30.2335, 'eval_samples_per_second': 3.936, 'eval_steps_per_second': 0.496, 'epoch': 0.62}\n",
      "{'loss': 0.8116, 'grad_norm': 1.7235584259033203, 'learning_rate': 3.2000000000000005e-05, 'epoch': 0.64}\n",
      "{'loss': 0.8118, 'grad_norm': 2.251302719116211, 'learning_rate': 3.15e-05, 'epoch': 0.65}\n",
      "{'loss': 0.784, 'grad_norm': 2.1356143951416016, 'learning_rate': 3.1e-05, 'epoch': 0.67}\n",
      "{'loss': 0.7704, 'grad_norm': 1.6011874675750732, 'learning_rate': 3.05e-05, 'epoch': 0.69}\n",
      "{'loss': 0.7719, 'grad_norm': 1.8598265647888184, 'learning_rate': 3e-05, 'epoch': 0.71}\n"
     ]
    },
    {
     "data": {
      "application/vnd.jupyter.widget-view+json": {
       "model_id": "895bec1fdde6475ba1cee86806e0066f",
       "version_major": 2,
       "version_minor": 0
      },
      "text/plain": [
       "  0%|          | 0/15 [00:00<?, ?it/s]"
      ]
     },
     "metadata": {},
     "output_type": "display_data"
    },
    {
     "name": "stdout",
     "output_type": "stream",
     "text": [
      "{'eval_loss': 1.041788101196289, 'eval_runtime': 30.8334, 'eval_samples_per_second': 3.859, 'eval_steps_per_second': 0.486, 'epoch': 0.71}\n",
      "{'loss': 0.7928, 'grad_norm': 1.8032617568969727, 'learning_rate': 2.95e-05, 'epoch': 0.73}\n",
      "{'loss': 0.7783, 'grad_norm': 1.968956470489502, 'learning_rate': 2.9e-05, 'epoch': 0.74}\n",
      "{'loss': 0.8594, 'grad_norm': 2.0553014278411865, 'learning_rate': 2.8499999999999998e-05, 'epoch': 0.76}\n",
      "{'loss': 0.8422, 'grad_norm': 2.014702320098877, 'learning_rate': 2.8000000000000003e-05, 'epoch': 0.78}\n",
      "{'loss': 0.8128, 'grad_norm': 1.7743725776672363, 'learning_rate': 2.7500000000000004e-05, 'epoch': 0.8}\n"
     ]
    },
    {
     "data": {
      "application/vnd.jupyter.widget-view+json": {
       "model_id": "d905e1f64ff94ee59ea20399592c34a6",
       "version_major": 2,
       "version_minor": 0
      },
      "text/plain": [
       "  0%|          | 0/15 [00:00<?, ?it/s]"
      ]
     },
     "metadata": {},
     "output_type": "display_data"
    },
    {
     "name": "stdout",
     "output_type": "stream",
     "text": [
      "{'eval_loss': 1.0328421592712402, 'eval_runtime': 31.7032, 'eval_samples_per_second': 3.754, 'eval_steps_per_second': 0.473, 'epoch': 0.8}\n",
      "{'loss': 0.8437, 'grad_norm': 2.0762293338775635, 'learning_rate': 2.7000000000000002e-05, 'epoch': 0.81}\n",
      "{'loss': 0.7926, 'grad_norm': 1.9273432493209839, 'learning_rate': 2.6500000000000004e-05, 'epoch': 0.83}\n",
      "{'loss': 0.8583, 'grad_norm': 2.067798376083374, 'learning_rate': 2.6000000000000002e-05, 'epoch': 0.85}\n",
      "{'loss': 0.8535, 'grad_norm': 1.820496678352356, 'learning_rate': 2.5500000000000003e-05, 'epoch': 0.87}\n",
      "{'loss': 0.8892, 'grad_norm': 2.0361106395721436, 'learning_rate': 2.5e-05, 'epoch': 0.88}\n"
     ]
    },
    {
     "data": {
      "application/vnd.jupyter.widget-view+json": {
       "model_id": "2f27d9f7d3c7451bb531d9c24ffba62d",
       "version_major": 2,
       "version_minor": 0
      },
      "text/plain": [
       "  0%|          | 0/15 [00:00<?, ?it/s]"
      ]
     },
     "metadata": {},
     "output_type": "display_data"
    },
    {
     "name": "stdout",
     "output_type": "stream",
     "text": [
      "{'eval_loss': 1.0234346389770508, 'eval_runtime': 29.9507, 'eval_samples_per_second': 3.973, 'eval_steps_per_second': 0.501, 'epoch': 0.88}\n",
      "{'loss': 0.8103, 'grad_norm': 1.8904415369033813, 'learning_rate': 2.45e-05, 'epoch': 0.9}\n",
      "{'loss': 0.8408, 'grad_norm': 2.053920269012451, 'learning_rate': 2.4e-05, 'epoch': 0.92}\n",
      "{'loss': 0.8202, 'grad_norm': 1.8590511083602905, 'learning_rate': 2.35e-05, 'epoch': 0.94}\n",
      "{'loss': 0.8624, 'grad_norm': 1.8665634393692017, 'learning_rate': 2.3000000000000003e-05, 'epoch': 0.96}\n",
      "{'loss': 0.8032, 'grad_norm': 1.7183762788772583, 'learning_rate': 2.25e-05, 'epoch': 0.97}\n"
     ]
    },
    {
     "data": {
      "application/vnd.jupyter.widget-view+json": {
       "model_id": "ccee4c73095a4c479248d93d01014859",
       "version_major": 2,
       "version_minor": 0
      },
      "text/plain": [
       "  0%|          | 0/15 [00:00<?, ?it/s]"
      ]
     },
     "metadata": {},
     "output_type": "display_data"
    },
    {
     "name": "stdout",
     "output_type": "stream",
     "text": [
      "{'eval_loss': 1.019166350364685, 'eval_runtime': 29.836, 'eval_samples_per_second': 3.988, 'eval_steps_per_second': 0.503, 'epoch': 0.97}\n",
      "{'loss': 0.8038, 'grad_norm': 1.840001106262207, 'learning_rate': 2.2000000000000003e-05, 'epoch': 0.99}\n",
      "{'loss': 0.6679, 'grad_norm': 1.690693736076355, 'learning_rate': 2.15e-05, 'epoch': 1.01}\n",
      "{'loss': 0.5652, 'grad_norm': 1.8304132223129272, 'learning_rate': 2.1e-05, 'epoch': 1.03}\n",
      "{'loss': 0.4981, 'grad_norm': 1.5922715663909912, 'learning_rate': 2.05e-05, 'epoch': 1.04}\n",
      "{'loss': 0.54, 'grad_norm': 1.5717473030090332, 'learning_rate': 2e-05, 'epoch': 1.06}\n"
     ]
    },
    {
     "data": {
      "application/vnd.jupyter.widget-view+json": {
       "model_id": "ffdf0b870f714a09936b0a97c298674a",
       "version_major": 2,
       "version_minor": 0
      },
      "text/plain": [
       "  0%|          | 0/15 [00:00<?, ?it/s]"
      ]
     },
     "metadata": {},
     "output_type": "display_data"
    },
    {
     "name": "stdout",
     "output_type": "stream",
     "text": [
      "{'eval_loss': 1.05845046043396, 'eval_runtime': 30.6115, 'eval_samples_per_second': 3.887, 'eval_steps_per_second': 0.49, 'epoch': 1.06}\n",
      "{'loss': 0.6144, 'grad_norm': 1.8708419799804688, 'learning_rate': 1.9500000000000003e-05, 'epoch': 1.08}\n",
      "{'loss': 0.5874, 'grad_norm': 1.596747875213623, 'learning_rate': 1.9e-05, 'epoch': 1.1}\n",
      "{'loss': 0.5946, 'grad_norm': 1.6429463624954224, 'learning_rate': 1.85e-05, 'epoch': 1.12}\n",
      "{'loss': 0.5506, 'grad_norm': 1.5073633193969727, 'learning_rate': 1.8e-05, 'epoch': 1.13}\n",
      "{'loss': 0.5457, 'grad_norm': 1.6702959537506104, 'learning_rate': 1.75e-05, 'epoch': 1.15}\n"
     ]
    },
    {
     "data": {
      "application/vnd.jupyter.widget-view+json": {
       "model_id": "4d1457158a3448e6a2ef90e927c21daf",
       "version_major": 2,
       "version_minor": 0
      },
      "text/plain": [
       "  0%|          | 0/15 [00:00<?, ?it/s]"
      ]
     },
     "metadata": {},
     "output_type": "display_data"
    },
    {
     "name": "stdout",
     "output_type": "stream",
     "text": [
      "{'eval_loss': 1.0675833225250244, 'eval_runtime': 33.3546, 'eval_samples_per_second': 3.568, 'eval_steps_per_second': 0.45, 'epoch': 1.15}\n",
      "{'loss': 0.5712, 'grad_norm': 1.988844633102417, 'learning_rate': 1.7000000000000003e-05, 'epoch': 1.17}\n",
      "{'loss': 0.542, 'grad_norm': 1.8061408996582031, 'learning_rate': 1.65e-05, 'epoch': 1.19}\n",
      "{'loss': 0.5314, 'grad_norm': 1.8148001432418823, 'learning_rate': 1.6000000000000003e-05, 'epoch': 1.2}\n",
      "{'loss': 0.5714, 'grad_norm': 1.9340872764587402, 'learning_rate': 1.55e-05, 'epoch': 1.22}\n",
      "{'loss': 0.5155, 'grad_norm': 2.0347824096679688, 'learning_rate': 1.5e-05, 'epoch': 1.24}\n"
     ]
    },
    {
     "data": {
      "application/vnd.jupyter.widget-view+json": {
       "model_id": "d226e11db92f4f958ce4b4a6227c1e35",
       "version_major": 2,
       "version_minor": 0
      },
      "text/plain": [
       "  0%|          | 0/15 [00:00<?, ?it/s]"
      ]
     },
     "metadata": {},
     "output_type": "display_data"
    },
    {
     "name": "stdout",
     "output_type": "stream",
     "text": [
      "{'eval_loss': 1.0718690156936646, 'eval_runtime': 30.5159, 'eval_samples_per_second': 3.9, 'eval_steps_per_second': 0.492, 'epoch': 1.24}\n",
      "{'loss': 0.5557, 'grad_norm': 1.8254315853118896, 'learning_rate': 1.45e-05, 'epoch': 1.26}\n",
      "{'loss': 0.6186, 'grad_norm': 1.9196431636810303, 'learning_rate': 1.4000000000000001e-05, 'epoch': 1.27}\n",
      "{'loss': 0.5757, 'grad_norm': 1.812699794769287, 'learning_rate': 1.3500000000000001e-05, 'epoch': 1.29}\n",
      "{'loss': 0.5686, 'grad_norm': 1.6897189617156982, 'learning_rate': 1.3000000000000001e-05, 'epoch': 1.31}\n",
      "{'loss': 0.6045, 'grad_norm': 2.1114113330841064, 'learning_rate': 1.25e-05, 'epoch': 1.33}\n"
     ]
    },
    {
     "data": {
      "application/vnd.jupyter.widget-view+json": {
       "model_id": "e00bef83736c41788ce3e71b59a2b94b",
       "version_major": 2,
       "version_minor": 0
      },
      "text/plain": [
       "  0%|          | 0/15 [00:00<?, ?it/s]"
      ]
     },
     "metadata": {},
     "output_type": "display_data"
    },
    {
     "name": "stdout",
     "output_type": "stream",
     "text": [
      "{'eval_loss': 1.0680468082427979, 'eval_runtime': 31.0548, 'eval_samples_per_second': 3.832, 'eval_steps_per_second': 0.483, 'epoch': 1.33}\n",
      "{'loss': 0.5467, 'grad_norm': 1.7934067249298096, 'learning_rate': 1.2e-05, 'epoch': 1.35}\n",
      "{'loss': 0.5975, 'grad_norm': 1.767614483833313, 'learning_rate': 1.1500000000000002e-05, 'epoch': 1.36}\n",
      "{'loss': 0.5779, 'grad_norm': 1.7944042682647705, 'learning_rate': 1.1000000000000001e-05, 'epoch': 1.38}\n",
      "{'loss': 0.6026, 'grad_norm': 1.8549104928970337, 'learning_rate': 1.05e-05, 'epoch': 1.4}\n",
      "{'loss': 0.5757, 'grad_norm': 1.8694956302642822, 'learning_rate': 1e-05, 'epoch': 1.42}\n"
     ]
    },
    {
     "data": {
      "application/vnd.jupyter.widget-view+json": {
       "model_id": "1f2446292a8e4f9a8af53ce510c188bb",
       "version_major": 2,
       "version_minor": 0
      },
      "text/plain": [
       "  0%|          | 0/15 [00:00<?, ?it/s]"
      ]
     },
     "metadata": {},
     "output_type": "display_data"
    },
    {
     "name": "stdout",
     "output_type": "stream",
     "text": [
      "{'eval_loss': 1.0680122375488281, 'eval_runtime': 34.2863, 'eval_samples_per_second': 3.471, 'eval_steps_per_second': 0.437, 'epoch': 1.42}\n",
      "{'loss': 0.5632, 'grad_norm': 1.856749176979065, 'learning_rate': 9.5e-06, 'epoch': 1.43}\n",
      "{'loss': 0.5636, 'grad_norm': 1.7532880306243896, 'learning_rate': 9e-06, 'epoch': 1.45}\n",
      "{'loss': 0.5848, 'grad_norm': 1.8033838272094727, 'learning_rate': 8.500000000000002e-06, 'epoch': 1.47}\n",
      "{'loss': 0.5999, 'grad_norm': 1.9317079782485962, 'learning_rate': 8.000000000000001e-06, 'epoch': 1.49}\n",
      "{'loss': 0.5723, 'grad_norm': 1.8876234292984009, 'learning_rate': 7.5e-06, 'epoch': 1.5}\n"
     ]
    },
    {
     "data": {
      "application/vnd.jupyter.widget-view+json": {
       "model_id": "a89073f52c53406098e5b8a46492af8b",
       "version_major": 2,
       "version_minor": 0
      },
      "text/plain": [
       "  0%|          | 0/15 [00:00<?, ?it/s]"
      ]
     },
     "metadata": {},
     "output_type": "display_data"
    },
    {
     "name": "stdout",
     "output_type": "stream",
     "text": [
      "{'eval_loss': 1.0668368339538574, 'eval_runtime': 31.6176, 'eval_samples_per_second': 3.764, 'eval_steps_per_second': 0.474, 'epoch': 1.5}\n",
      "{'loss': 0.5784, 'grad_norm': 1.978985071182251, 'learning_rate': 7.000000000000001e-06, 'epoch': 1.52}\n",
      "{'loss': 0.5615, 'grad_norm': 2.087242364883423, 'learning_rate': 6.5000000000000004e-06, 'epoch': 1.54}\n",
      "{'loss': 0.6264, 'grad_norm': 1.8991167545318604, 'learning_rate': 6e-06, 'epoch': 1.56}\n",
      "{'loss': 0.6119, 'grad_norm': 1.7930943965911865, 'learning_rate': 5.500000000000001e-06, 'epoch': 1.58}\n",
      "{'loss': 0.6175, 'grad_norm': 1.9226043224334717, 'learning_rate': 5e-06, 'epoch': 1.59}\n"
     ]
    },
    {
     "data": {
      "application/vnd.jupyter.widget-view+json": {
       "model_id": "23b2470327d845b2be0535389d4d9eee",
       "version_major": 2,
       "version_minor": 0
      },
      "text/plain": [
       "  0%|          | 0/15 [00:00<?, ?it/s]"
      ]
     },
     "metadata": {},
     "output_type": "display_data"
    },
    {
     "name": "stdout",
     "output_type": "stream",
     "text": [
      "{'eval_loss': 1.062567949295044, 'eval_runtime': 32.3546, 'eval_samples_per_second': 3.678, 'eval_steps_per_second': 0.464, 'epoch': 1.59}\n",
      "{'loss': 0.6099, 'grad_norm': 1.8475769758224487, 'learning_rate': 4.5e-06, 'epoch': 1.61}\n",
      "{'loss': 0.5928, 'grad_norm': 1.70984947681427, 'learning_rate': 4.000000000000001e-06, 'epoch': 1.63}\n",
      "{'loss': 0.5925, 'grad_norm': 1.947863221168518, 'learning_rate': 3.5000000000000004e-06, 'epoch': 1.65}\n",
      "{'loss': 0.5887, 'grad_norm': 1.7866694927215576, 'learning_rate': 3e-06, 'epoch': 1.66}\n",
      "{'loss': 0.6494, 'grad_norm': 1.953308343887329, 'learning_rate': 2.5e-06, 'epoch': 1.68}\n"
     ]
    },
    {
     "data": {
      "application/vnd.jupyter.widget-view+json": {
       "model_id": "1f6490bba31043e18da70708eb5288b6",
       "version_major": 2,
       "version_minor": 0
      },
      "text/plain": [
       "  0%|          | 0/15 [00:00<?, ?it/s]"
      ]
     },
     "metadata": {},
     "output_type": "display_data"
    },
    {
     "name": "stdout",
     "output_type": "stream",
     "text": [
      "{'eval_loss': 1.0621213912963867, 'eval_runtime': 31.5744, 'eval_samples_per_second': 3.769, 'eval_steps_per_second': 0.475, 'epoch': 1.68}\n",
      "{'loss': 0.6383, 'grad_norm': 1.843813180923462, 'learning_rate': 2.0000000000000003e-06, 'epoch': 1.7}\n",
      "{'loss': 0.5964, 'grad_norm': 1.7836089134216309, 'learning_rate': 1.5e-06, 'epoch': 1.72}\n",
      "{'loss': 0.5975, 'grad_norm': 1.7674951553344727, 'learning_rate': 1.0000000000000002e-06, 'epoch': 1.73}\n",
      "{'loss': 0.5925, 'grad_norm': 1.5956822633743286, 'learning_rate': 5.000000000000001e-07, 'epoch': 1.75}\n",
      "{'loss': 0.5001, 'grad_norm': 1.5640424489974976, 'learning_rate': 0.0, 'epoch': 1.77}\n"
     ]
    },
    {
     "data": {
      "application/vnd.jupyter.widget-view+json": {
       "model_id": "df476e20016c40b282a9494eadef889c",
       "version_major": 2,
       "version_minor": 0
      },
      "text/plain": [
       "  0%|          | 0/15 [00:00<?, ?it/s]"
      ]
     },
     "metadata": {},
     "output_type": "display_data"
    },
    {
     "name": "stdout",
     "output_type": "stream",
     "text": [
      "{'eval_loss': 1.0615426301956177, 'eval_runtime': 30.3185, 'eval_samples_per_second': 3.925, 'eval_steps_per_second': 0.495, 'epoch': 1.77}\n",
      "{'train_runtime': 4252.3493, 'train_samples_per_second': 0.941, 'train_steps_per_second': 0.235, 'train_loss': 0.6903949475288391, 'epoch': 1.77}\n"
     ]
    }
   ],
   "source": [
    "# Train the model\n",
    "trainer.train()\n",
    "\n",
    "# Save the model\n",
    "trainer.save_model(f\"./{finetune_name}\")"
   ]
  },
  {
   "cell_type": "code",
   "execution_count": 21,
   "metadata": {},
   "outputs": [
    {
     "data": {
      "application/vnd.jupyter.widget-view+json": {
       "model_id": "4e0934f9464b4a49877da2245ed6ae69",
       "version_major": 2,
       "version_minor": 0
      },
      "text/plain": [
       "model.safetensors:   0%|          | 0.00/538M [00:00<?, ?B/s]"
      ]
     },
     "metadata": {},
     "output_type": "display_data"
    },
    {
     "data": {
      "text/plain": [
       "CommitInfo(commit_url='https://huggingface.co/Shern0507/SmolLM2-FT-MyDataset/commit/3c7bd19fe74695c6689326c7a4bbe4ebc857a474', commit_message='End of training', commit_description='', oid='3c7bd19fe74695c6689326c7a4bbe4ebc857a474', pr_url=None, repo_url=RepoUrl('https://huggingface.co/Shern0507/SmolLM2-FT-MyDataset', endpoint='https://huggingface.co', repo_type='model', repo_id='Shern0507/SmolLM2-FT-MyDataset'), pr_revision=None, pr_num=None)"
      ]
     },
     "execution_count": 21,
     "metadata": {},
     "output_type": "execute_result"
    }
   ],
   "source": [
    "trainer.push_to_hub(tags=finetune_tags)"
   ]
  },
  {
   "cell_type": "markdown",
   "metadata": {},
   "source": [
    "<div style='background-color: lightblue; padding: 10px; border-radius: 5px; margin-bottom: 20px; color:black'>\n",
    "    <h2 style='margin: 0;color:blue'>Bonus Exercise: Generate with fine-tuned model</h2>\n",
    "    <p>🐕 Use the fine-tuned to model generate a response, just like with the base example..</p>\n",
    "</div>"
   ]
  },
  {
   "cell_type": "code",
   "execution_count": 22,
   "metadata": {},
   "outputs": [],
   "source": [
    "# Test the fine-tuned model on the same prompt\n",
    "\n",
    "# Let's test the base model before training\n",
    "prompt = \"Write a haiku about programming\"\n",
    "\n",
    "# Format with template\n",
    "messages = [{\"role\": \"user\", \"content\": prompt}]\n",
    "formatted_prompt = tokenizer.apply_chat_template(messages, tokenize=False)\n",
    "\n",
    "# Generate response\n",
    "inputs = tokenizer(formatted_prompt, return_tensors=\"pt\").to(device)\n",
    "\n",
    "# TODO: use the fine-tuned to model generate a response, just like with the base example."
   ]
  },
  {
   "cell_type": "markdown",
   "metadata": {},
   "source": [
    "## 💐 You're done!\n",
    "\n",
    "This notebook provided a step-by-step guide to fine-tuning the `HuggingFaceTB/SmolLM2-135M` model using the `SFTTrainer`. By following these steps, you can adapt the model to perform specific tasks more effectively. If you want to carry on working on this course, here are steps you could try out:\n",
    "\n",
    "- Try this notebook on a harder difficulty\n",
    "- Review a colleagues PR\n",
    "- Improve the course material via an Issue or PR."
   ]
  }
 ],
 "metadata": {
  "kernelspec": {
   "display_name": ".venv",
   "language": "python",
   "name": "python3"
  },
  "language_info": {
   "codemirror_mode": {
    "name": "ipython",
    "version": 3
   },
   "file_extension": ".py",
   "mimetype": "text/x-python",
   "name": "python",
   "nbconvert_exporter": "python",
   "pygments_lexer": "ipython3",
   "version": "3.11.9"
  }
 },
 "nbformat": 4,
 "nbformat_minor": 2
}
